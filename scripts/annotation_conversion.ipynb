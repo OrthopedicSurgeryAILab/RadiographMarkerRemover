{
 "cells": [
  {
   "cell_type": "code",
   "execution_count": 1,
   "metadata": {},
   "outputs": [],
   "source": [
    "import json\n",
    "import yaml\n",
    "import os\n",
    "import shutil\n",
    "from tqdm.auto import tqdm\n",
    "import pandas as pd\n",
    "from glob import glob\n",
    "import bkh_pytorch_utils as bpu"
   ]
  },
  {
   "cell_type": "code",
   "execution_count": 2,
   "metadata": {},
   "outputs": [],
   "source": [
    "CLASSNAMES = [\"marker\"]\n",
    "ANNOTATION_DATA_PATH = \"../data/chexpert_data\"\n",
    "YOLO_DATA_PATH = \"../data/yolo_data_finetuning/\""
   ]
  },
  {
   "cell_type": "code",
   "execution_count": 17,
   "metadata": {},
   "outputs": [],
   "source": [
    "# emptying the yolo data folder\n",
    "for file in glob(f\"{YOLO_DATA_PATH}/*/*/*.*\"):\n",
    "    os.remove(file)"
   ]
  },
  {
   "cell_type": "code",
   "execution_count": 3,
   "metadata": {},
   "outputs": [],
   "source": [
    "all_imgages = glob(f\"{ANNOTATION_DATA_PATH}/images/*.jpg\")\n",
    "all_imgages.sort()"
   ]
  },
  {
   "cell_type": "code",
   "execution_count": 4,
   "metadata": {},
   "outputs": [
    {
     "data": {
      "text/html": [
       "<div>\n",
       "<style scoped>\n",
       "    .dataframe tbody tr th:only-of-type {\n",
       "        vertical-align: middle;\n",
       "    }\n",
       "\n",
       "    .dataframe tbody tr th {\n",
       "        vertical-align: top;\n",
       "    }\n",
       "\n",
       "    .dataframe thead th {\n",
       "        text-align: right;\n",
       "    }\n",
       "</style>\n",
       "<table border=\"1\" class=\"dataframe\">\n",
       "  <thead>\n",
       "    <tr style=\"text-align: right;\">\n",
       "      <th></th>\n",
       "      <th>ImagePath</th>\n",
       "    </tr>\n",
       "  </thead>\n",
       "  <tbody>\n",
       "    <tr>\n",
       "      <th>0</th>\n",
       "      <td>/research/projects/m253231_Bardia/Current/05__...</td>\n",
       "    </tr>\n",
       "    <tr>\n",
       "      <th>1</th>\n",
       "      <td>/research/projects/m253231_Bardia/Current/05__...</td>\n",
       "    </tr>\n",
       "    <tr>\n",
       "      <th>2</th>\n",
       "      <td>/research/projects/m253231_Bardia/Current/05__...</td>\n",
       "    </tr>\n",
       "    <tr>\n",
       "      <th>3</th>\n",
       "      <td>/research/projects/m253231_Bardia/Current/05__...</td>\n",
       "    </tr>\n",
       "    <tr>\n",
       "      <th>4</th>\n",
       "      <td>/research/projects/m253231_Bardia/Current/05__...</td>\n",
       "    </tr>\n",
       "  </tbody>\n",
       "</table>\n",
       "</div>"
      ],
      "text/plain": [
       "                                           ImagePath\n",
       "0  /research/projects/m253231_Bardia/Current/05__...\n",
       "1  /research/projects/m253231_Bardia/Current/05__...\n",
       "2  /research/projects/m253231_Bardia/Current/05__...\n",
       "3  /research/projects/m253231_Bardia/Current/05__...\n",
       "4  /research/projects/m253231_Bardia/Current/05__..."
      ]
     },
     "execution_count": 4,
     "metadata": {},
     "output_type": "execute_result"
    }
   ],
   "source": [
    "all_imgages_df = pd.DataFrame({\"ImagePath\": all_imgages})\n",
    "all_imgages_df.head()"
   ]
  },
  {
   "cell_type": "code",
   "execution_count": 7,
   "metadata": {},
   "outputs": [
    {
     "data": {
      "application/vnd.jupyter.widget-view+json": {
       "model_id": "6e4662bc0c4547a3a278728e73b2d249",
       "version_major": 2,
       "version_minor": 0
      },
      "text/plain": [
       "  0%|          | 0/20 [00:00<?, ?it/s]"
      ]
     },
     "metadata": {},
     "output_type": "display_data"
    }
   ],
   "source": [
    "for i in tqdm(range(len(all_imgages_df))):\n",
    "    row = all_imgages_df.iloc[i]\n",
    "    image_path = row[\"ImagePath\"]\n",
    "    filename = image_path.split(\"/\")[-1][:-4]\n",
    "        \n",
    "    split = \"train\"\n",
    "    \n",
    "    annotation_label_path = f\"{ANNOTATION_DATA_PATH}/labels/{filename}.json\"\n",
    "    if os.path.exists(annotation_label_path):\n",
    "        annotation_label = json.load(open(annotation_label_path))\n",
    "        image_height = annotation_label['imageHeight']\n",
    "        image_weight = annotation_label['imageWidth']\n",
    "\n",
    "        # getting the annotations in yolo format\n",
    "        label_lines = []\n",
    "        for bbox in annotation_label['shapes']:\n",
    "            if bbox['shape_type'] == 'rectangle':\n",
    "                class_idx = 0               # We have only one class\n",
    "                x_min = bbox['points'][0][0]\n",
    "                y_min = bbox['points'][0][1]\n",
    "                x_max = bbox['points'][1][0]\n",
    "                y_max = bbox['points'][1][1]\n",
    "                x_center = ((x_min + x_max) / 2) / image_weight\n",
    "                y_center = ((y_min + y_max) / 2) / image_height\n",
    "                width = abs(x_max - x_min) / image_weight\n",
    "                height = abs(y_max - y_min) / image_height\n",
    "\n",
    "                # converting coordinates to string and joining them with \" \"\n",
    "                label_line = \" \".join([str(x) for x in [class_idx, x_center, y_center, width, height]])\n",
    "                label_lines.append(label_line)\n",
    "        \n",
    "        # writing the labels to the file with 50x upsampling (only for fietuning)\n",
    "        for k in range(50):\n",
    "            with open(f\"{YOLO_DATA_PATH}/{split}/labels/{filename}_{k}.txt\", \"w\") as f:\n",
    "                f.write(\"\\n\".join(label_lines))\n",
    "\n",
    "    # copying the image 50x times to the yolo training directory (only for fietuning)\n",
    "    for k in range(50):\n",
    "        shutil.copy(image_path, f\"{YOLO_DATA_PATH}/{split}/images/{filename}_{k}.png\")\n"
   ]
  },
  {
   "cell_type": "code",
   "execution_count": 22,
   "metadata": {},
   "outputs": [],
   "source": [
    "# creating the training yaml file\n",
    "data = {\n",
    "    \"train\": f\"{YOLO_DATA_PATH}/train\",\n",
    "    \"val\": f\"{YOLO_DATA_PATH}/train\",\n",
    "    \"nc\": len(CLASSNAMES),\n",
    "    \"names\": CLASSNAMES\n",
    "}\n",
    "\n",
    "with open(f'{YOLO_DATA_PATH}/data.yaml', 'w') as f:\n",
    "    yaml.dump(data, f, default_flow_style=False)"
   ]
  }
 ],
 "metadata": {
  "kernelspec": {
   "display_name": "Python 3",
   "language": "python",
   "name": "python3"
  },
  "language_info": {
   "codemirror_mode": {
    "name": "ipython",
    "version": 3
   },
   "file_extension": ".py",
   "mimetype": "text/x-python",
   "name": "python",
   "nbconvert_exporter": "python",
   "pygments_lexer": "ipython3",
   "version": "3.10.4 (tags/v3.10.4:9d38120, Mar 23 2022, 23:13:41) [MSC v.1929 64 bit (AMD64)]"
  },
  "orig_nbformat": 4,
  "vscode": {
   "interpreter": {
    "hash": "230c91dbd34bb678db23defec8ff3ae46856a5ad49a39f160de7b7c534bb2b70"
   }
  }
 },
 "nbformat": 4,
 "nbformat_minor": 2
}
