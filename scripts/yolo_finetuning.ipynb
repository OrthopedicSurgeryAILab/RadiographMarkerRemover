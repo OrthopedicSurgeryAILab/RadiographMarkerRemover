{
 "cells": [
  {
   "cell_type": "code",
   "execution_count": null,
   "metadata": {},
   "outputs": [],
   "source": [
    "!git clone https://github.com/ultralytics/yolov5  # clone\n",
    "!cd yolov5\n",
    "!pip install -r requirements.txt  # install\n",
    "!cd ../"
   ]
  },
  {
   "cell_type": "code",
   "execution_count": 9,
   "metadata": {},
   "outputs": [],
   "source": [
    "import wandb\n",
    "import shutil"
   ]
  },
  {
   "cell_type": "code",
   "execution_count": null,
   "metadata": {},
   "outputs": [],
   "source": [
    "YOLO_PATH = \"./yolo\"\n",
    "YOLO_DATA_PATH = \"/research/projects/Current/05__Radiograph_Marker_Detection/data/yolo_data_finetuning\" # has to be absolute path\n",
    "PROJECT_dir = '/research/projects/Current/05__Radiograph_Marker_Detection/outputs/marker_finetuning' # has to be absolute path\n",
    "IMAGE_SIZE = 512\n",
    "BATCH_SIZE = 8\n",
    "EPOCHS = 50\n",
    "\n",
    "# weights path has to be absolute path of the best training weights in initial training\n",
    "WEIGHTS_PATH = f\"/research/projects/Current/05__Radiograph_Marker_Detection/outputs/marker_detection/test0/weights/best.pt\"\n",
    "RUN = \"test0\"\n",
    "\n",
    "# To make the cell work prperly if run multiple times. \n",
    "shutil.rmtree(f\"{PROJECT_dir}/{RUN}\", ignore_errors=True)\n",
    "\n",
    "# Training\n",
    "!python  {YOLO_PATH}/train.py   --img {IMAGE_SIZE} \\\n",
    "                                --batch {BATCH_SIZE} \\\n",
    "                                --epochs {EPOCHS} \\\n",
    "                                --data  {YOLO_DATA_PATH}/data.yaml \\\n",
    "                                --weights {WEIGHTS_PATH} \\\n",
    "                                --project  {PROJECT_dir} \\\n",
    "                                --name {RUN} \\\n",
    "                                --hyp {YOLO_DATA_PATH}/hyp.yaml \\\n",
    "                                --device 0 \\\n",
    "                                --freeze 9      # very important for finetuning"
   ]
  }
 ],
 "metadata": {
  "kernelspec": {
   "display_name": "Python 3",
   "language": "python",
   "name": "python3"
  },
  "language_info": {
   "codemirror_mode": {
    "name": "ipython",
    "version": 3
   },
   "file_extension": ".py",
   "mimetype": "text/x-python",
   "name": "python",
   "nbconvert_exporter": "python",
   "pygments_lexer": "ipython3",
   "version": "3.10.4 (tags/v3.10.4:9d38120, Mar 23 2022, 23:13:41) [MSC v.1929 64 bit (AMD64)]"
  },
  "orig_nbformat": 4,
  "vscode": {
   "interpreter": {
    "hash": "230c91dbd34bb678db23defec8ff3ae46856a5ad49a39f160de7b7c534bb2b70"
   }
  }
 },
 "nbformat": 4,
 "nbformat_minor": 2
}
