{
 "cells": [
  {
   "cell_type": "code",
   "execution_count": null,
   "metadata": {},
   "outputs": [],
   "source": [
    "!git clone https://github.com/ultralytics/yolov5  # clone\n",
    "!cd yolov5\n",
    "!pip install -r requirements.txt  # install\n",
    "!cd ../"
   ]
  },
  {
   "cell_type": "code",
   "execution_count": 2,
   "metadata": {},
   "outputs": [],
   "source": [
    "import wandb\n",
    "import shutil"
   ]
  },
  {
   "cell_type": "code",
   "execution_count": null,
   "metadata": {},
   "outputs": [],
   "source": [
    "YOLO_PATH = \"./yolo\"\n",
    "YOLO_DATA_PATH = \"/research/projects/Current/05__Radiograph_Marker_Detection/data/yolo_data\" # has to be absolute path\n",
    "PROJECT_dir = \"/research/projects/Current/05__Radiograph_Marker_Detection/outputs/marker_detection\" # has to be absolute path\n",
    "IMAGE_SIZE = 512\n",
    "BATCH_SIZE = 8\n",
    "EPOCHS = 1\n",
    "WEIGHTS_PATH = f'{PROJECT_dir}/yolov5x.pt' #Default weights from the yolov5 repository\n",
    "RUN = \"test0\"\n",
    "\n",
    "# To make the cell work prperly if run multiple times. \n",
    "shutil.rmtree(f\"{PROJECT_dir}/{RUN}\", ignore_errors=True)\n",
    "\n",
    "# Training\n",
    "!python  {YOLO_PATH}/train.py   --img {IMAGE_SIZE} \\\n",
    "                                --batch {BATCH_SIZE} \\\n",
    "                                --epochs {EPOCHS} \\\n",
    "                                --data  {YOLO_DATA_PATH}/data.yaml \\\n",
    "                                --weights {WEIGHTS_PATH} \\\n",
    "                                --project  {PROJECT_dir} \\\n",
    "                                --name {RUN} \\\n",
    "                                --device 0"
   ]
  },
  {
   "cell_type": "code",
   "execution_count": null,
   "metadata": {},
   "outputs": [],
   "source": []
  }
 ],
 "metadata": {
  "kernelspec": {
   "display_name": "Python 3",
   "language": "python",
   "name": "python3"
  },
  "language_info": {
   "codemirror_mode": {
    "name": "ipython",
    "version": 3
   },
   "file_extension": ".py",
   "mimetype": "text/x-python",
   "name": "python",
   "nbconvert_exporter": "python",
   "pygments_lexer": "ipython3",
   "version": "3.6.8 (default, Nov 16 2020, 16:55:22) \n[GCC 4.8.5 20150623 (Red Hat 4.8.5-44)]"
  },
  "orig_nbformat": 4,
  "vscode": {
   "interpreter": {
    "hash": "916dbcbb3f70747c44a77c7bcd40155683ae19c65e1c03b4aa3499c5328201f1"
   }
  }
 },
 "nbformat": 4,
 "nbformat_minor": 2
}
